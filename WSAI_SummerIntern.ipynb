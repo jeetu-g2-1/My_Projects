{
  "nbformat": 4,
  "nbformat_minor": 0,
  "metadata": {
    "colab": {
      "provenance": [],
      "authorship_tag": "ABX9TyMTKrF8epZ1y7HpaaLPEfXh",
      "include_colab_link": true
    },
    "kernelspec": {
      "name": "python3",
      "display_name": "Python 3"
    },
    "language_info": {
      "name": "python"
    }
  },
  "cells": [
    {
      "cell_type": "markdown",
      "metadata": {
        "id": "view-in-github",
        "colab_type": "text"
      },
      "source": [
        "<a href=\"https://colab.research.google.com/github/jeetu-g2-1/My_Projects/blob/main/WSAI_SummerIntern.ipynb\" target=\"_parent\"><img src=\"https://colab.research.google.com/assets/colab-badge.svg\" alt=\"Open In Colab\"/></a>"
      ]
    },
    {
      "cell_type": "code",
      "execution_count": 1,
      "metadata": {
        "id": "lsYUkf-x7o-L"
      },
      "outputs": [],
      "source": [
        "import numpy as np"
      ]
    },
    {
      "cell_type": "code",
      "source": [
        "#rotation matrix\n",
        "matrix=np.array([[1,2,3],[2,3,4],[3,3,4]])\n",
        "print(matrix)\n",
        "m=len(matrix)\n",
        "n=len(matrix[0])\n",
        "print(n)\n",
        "x=matrix[n-1,:].T\n",
        "y=matrix[n-2,:].T\n",
        "z=matrix[n-3,:].T\n",
        "matrix=np.array([x,y,z])"
      ],
      "metadata": {
        "colab": {
          "base_uri": "https://localhost:8080/"
        },
        "id": "R7wWYP837xug",
        "outputId": "ae2a53cf-615d-4d5b-a0ff-a44957b9f8b4"
      },
      "execution_count": 17,
      "outputs": [
        {
          "output_type": "stream",
          "name": "stdout",
          "text": [
            "[[1 2 3]\n",
            " [2 3 4]\n",
            " [3 3 4]]\n",
            "3\n"
          ]
        }
      ]
    },
    {
      "cell_type": "code",
      "source": [
        "matrix.T\n"
      ],
      "metadata": {
        "colab": {
          "base_uri": "https://localhost:8080/"
        },
        "id": "vKZGjcAa8aBK",
        "outputId": "0c495d1c-e27b-4c79-e64a-4f4db62fa685"
      },
      "execution_count": 16,
      "outputs": [
        {
          "output_type": "execute_result",
          "data": {
            "text/plain": [
              "array([[3, 2, 1],\n",
              "       [3, 3, 2],\n",
              "       [4, 4, 3]])"
            ]
          },
          "metadata": {},
          "execution_count": 16
        }
      ]
    },
    {
      "cell_type": "code",
      "source": [
        "import numpy as np\n",
        "\n",
        "matrix = np.array([[1, 2, 3],\n",
        "                   [2, 3, 4],\n",
        "                   [3, 3, 4]])\n",
        "\n",
        "print(\"Original Matrix:\")\n",
        "print(matrix)\n",
        "\n",
        "# Rotating 90 degrees counterclockwise three times (equivalent to 90-degree clockwise rotation)\n",
        "rotated_matrix = np.rot90(matrix, k=3)\n",
        "\n",
        "print(\"Rotated Matrix (k=3, same as 90-degree clockwise):\")\n",
        "print(rotated_matrix)\n"
      ],
      "metadata": {
        "colab": {
          "base_uri": "https://localhost:8080/"
        },
        "id": "Ip6XEExaAIRZ",
        "outputId": "c01069b4-e62c-48cc-df60-ac8e88f2c0dc"
      },
      "execution_count": 18,
      "outputs": [
        {
          "output_type": "stream",
          "name": "stdout",
          "text": [
            "Original Matrix:\n",
            "[[1 2 3]\n",
            " [2 3 4]\n",
            " [3 3 4]]\n",
            "Rotated Matrix (k=3, same as 90-degree clockwise):\n",
            "[[3 2 1]\n",
            " [3 3 2]\n",
            " [4 4 3]]\n"
          ]
        }
      ]
    },
    {
      "cell_type": "code",
      "source": [],
      "metadata": {
        "id": "MPUXStxTBxHi"
      },
      "execution_count": null,
      "outputs": []
    }
  ]
}