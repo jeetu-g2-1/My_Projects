{
  "nbformat": 4,
  "nbformat_minor": 0,
  "metadata": {
    "colab": {
      "provenance": [],
      "authorship_tag": "ABX9TyOUYzY7Ek9P6xiP20zBlVF+",
      "include_colab_link": true
    },
    "kernelspec": {
      "name": "python3",
      "display_name": "Python 3"
    },
    "language_info": {
      "name": "python"
    }
  },
  "cells": [
    {
      "cell_type": "markdown",
      "metadata": {
        "id": "view-in-github",
        "colab_type": "text"
      },
      "source": [
        "<a href=\"https://colab.research.google.com/github/jeetu-g2-1/My_Projects/blob/main/idea1.ipynb\" target=\"_parent\"><img src=\"https://colab.research.google.com/assets/colab-badge.svg\" alt=\"Open In Colab\"/></a>"
      ]
    },
    {
      "cell_type": "code",
      "execution_count": null,
      "metadata": {
        "id": "Xk1gHVnf7ULL",
        "colab": {
          "base_uri": "https://localhost:8080/"
        },
        "outputId": "def426c8-dd14-4272-961e-57de41c45959"
      },
      "outputs": [
        {
          "output_type": "stream",
          "name": "stdout",
          "text": [
            "Requirement already satisfied: requests in /usr/local/lib/python3.11/dist-packages (2.32.3)\n",
            "Requirement already satisfied: charset-normalizer<4,>=2 in /usr/local/lib/python3.11/dist-packages (from requests) (3.4.1)\n",
            "Requirement already satisfied: idna<4,>=2.5 in /usr/local/lib/python3.11/dist-packages (from requests) (3.10)\n",
            "Requirement already satisfied: urllib3<3,>=1.21.1 in /usr/local/lib/python3.11/dist-packages (from requests) (2.3.0)\n",
            "Requirement already satisfied: certifi>=2017.4.17 in /usr/local/lib/python3.11/dist-packages (from requests) (2025.1.31)\n",
            "Requirement already satisfied: html5lib in /usr/local/lib/python3.11/dist-packages (1.1)\n",
            "Requirement already satisfied: six>=1.9 in /usr/local/lib/python3.11/dist-packages (from html5lib) (1.17.0)\n",
            "Requirement already satisfied: webencodings in /usr/local/lib/python3.11/dist-packages (from html5lib) (0.5.1)\n",
            "Collecting bs4\n",
            "  Downloading bs4-0.0.2-py2.py3-none-any.whl.metadata (411 bytes)\n",
            "Requirement already satisfied: beautifulsoup4 in /usr/local/lib/python3.11/dist-packages (from bs4) (4.13.3)\n",
            "Requirement already satisfied: soupsieve>1.2 in /usr/local/lib/python3.11/dist-packages (from beautifulsoup4->bs4) (2.6)\n",
            "Requirement already satisfied: typing-extensions>=4.0.0 in /usr/local/lib/python3.11/dist-packages (from beautifulsoup4->bs4) (4.12.2)\n",
            "Downloading bs4-0.0.2-py2.py3-none-any.whl (1.2 kB)\n",
            "Installing collected packages: bs4\n",
            "Successfully installed bs4-0.0.2\n"
          ]
        }
      ],
      "source": [
        "!pip install requests\n",
        "!pip install html5lib\n",
        "!pip install bs4"
      ]
    },
    {
      "cell_type": "code",
      "source": [
        "import requests\n",
        "from bs4 import BeautifulSoup\n",
        "import csv"
      ],
      "metadata": {
        "id": "UVvAzWE18AMN"
      },
      "execution_count": null,
      "outputs": []
    },
    {
      "cell_type": "code",
      "source": [
        "def get_cities(state):\n",
        "  text = requests.get(base+'/'+state).content\n",
        "  soup = BeautifulSoup(text, 'html.parser')\n",
        "  cities = soup.find_all('a', class_ = 'destTitle')\n",
        "  result = []\n",
        "  for city in cities[:-8]:\n",
        "    result.append(city.text.split('.')[1][1:])\n",
        "  return result"
      ],
      "metadata": {
        "id": "_QxVfNEhiV6A"
      },
      "execution_count": null,
      "outputs": []
    },
    {
      "cell_type": "code",
      "source": [
        "def get_place_details(place):\n",
        "  base = 'https://www.trawell.in'\n",
        "  url = base + place\n",
        "  text = requests.get(url).content\n",
        "  soup = BeautifulSoup(text, 'html.parser')\n",
        "  data = {}\n",
        "  data['place'] = soup.find('h2').text[6:]\n",
        "  spans = soup.find('div', id = 'quick-info').find_all('span')\n",
        "  data['country'] = spans[1].text\n",
        "  data['state'] = spans[4].text\n",
        "  data['trip duration'] = spans[9].text\n",
        "  data['base station'] = spans[11].text\n",
        "  data['best time'] = spans[15].text\n",
        "  h3s = soup.find_all('h3', class_='destTitle')\n",
        "  l = len(h3s)\n",
        "  best = []\n",
        "  for i in range(l//2):\n",
        "    best.append(h3s[i].find('a').text)\n",
        "  data['best places'] = best\n",
        "  # via\n",
        "  travel_by = []\n",
        "  by = soup.find_all('div', class_='destTransportHead')[0]\n",
        "  h3s = by.find_all('h3')\n",
        "  for h3 in h3s[: -1]:\n",
        "    travel_by.append(h3.text.split(' ')[1])\n",
        "  data['travel by'] = travel_by\n",
        "  return data"
      ],
      "metadata": {
        "id": "B3Fak4RAiWwy"
      },
      "execution_count": null,
      "outputs": []
    },
    {
      "cell_type": "code",
      "source": [
        "def check_word(word):\n",
        "  for char in word:\n",
        "    if not char.isalpha() | char.isspace():\n",
        "      return False\n",
        "  return True"
      ],
      "metadata": {
        "id": "6UiB_SRciaLz"
      },
      "execution_count": null,
      "outputs": []
    },
    {
      "cell_type": "code",
      "source": [
        "def get_data(state):\n",
        "  base = 'https://www.trawell.in'\n",
        "  text = requests.get(base+'/'+state).content\n",
        "  soup = BeautifulSoup(text, 'html.parser')\n",
        "  cities = soup.find_all('a', class_ = 'destTitle')\n",
        "  result = []\n",
        "  for city in cities[:-8]:\n",
        "    result.append(city.text.split('.')[1][1:])\n",
        "  result = [word.lower() for word in result]\n",
        "  result = [word for word in result if check_word(word)]\n",
        "  result = [word.replace(' ','-') for word in result]\n",
        "  l = len(result)\n",
        "  data = []\n",
        "  for i in range(l):\n",
        "    try:\n",
        "      data.append(get_place_details(state+'/'+result[i]))\n",
        "    except AttributeError as e:\n",
        "      continue\n",
        "  return data"
      ],
      "metadata": {
        "id": "W6JFo3Lbi0QQ"
      },
      "execution_count": null,
      "outputs": []
    },
    {
      "cell_type": "code",
      "source": [
        "states1 = ['/andhra', '/tamilnadu', '/kerala', '/karnataka', '/goa', '/maharashtra', '/gujarat', '/rajasthan']\n",
        "states=['']"
      ],
      "metadata": {
        "id": "xMJLl7Uni32j"
      },
      "execution_count": null,
      "outputs": []
    },
    {
      "cell_type": "code",
      "source": [
        "total_data = []\n",
        "\n",
        "for state in states:\n",
        "  total_data.extend(get_data(state))"
      ],
      "metadata": {
        "id": "vp13dgVEi7CP"
      },
      "execution_count": null,
      "outputs": []
    },
    {
      "cell_type": "code",
      "source": [
        "import pandas as pd\n",
        "df = pd.DataFrame(total_data)\n",
        "df.to_csv('data.csv')"
      ],
      "metadata": {
        "id": "IULK8p_ci_h4"
      },
      "execution_count": null,
      "outputs": []
    },
    {
      "cell_type": "code",
      "source": [],
      "metadata": {
        "id": "I_0U-30IksNO"
      },
      "execution_count": null,
      "outputs": []
    }
  ]
}