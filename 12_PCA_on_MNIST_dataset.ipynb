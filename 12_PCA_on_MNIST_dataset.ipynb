{
  "nbformat": 4,
  "nbformat_minor": 0,
  "metadata": {
    "colab": {
      "provenance": [],
      "include_colab_link": true
    },
    "kernelspec": {
      "name": "python3",
      "display_name": "Python 3"
    },
    "language_info": {
      "name": "python"
    }
  },
  "cells": [
    {
      "cell_type": "markdown",
      "metadata": {
        "id": "view-in-github",
        "colab_type": "text"
      },
      "source": [
        "<a href=\"https://colab.research.google.com/github/jeetu-g2-1/My_Projects/blob/main/12_PCA_on_MNIST_dataset.ipynb\" target=\"_parent\"><img src=\"https://colab.research.google.com/assets/colab-badge.svg\" alt=\"Open In Colab\"/></a>"
      ]
    },
    {
      "cell_type": "markdown",
      "source": [
        "Import necessary libraries"
      ],
      "metadata": {
        "id": "vgal_Ekholzl"
      }
    },
    {
      "cell_type": "code",
      "source": [
        "import numpy as np\n",
        "import matplotlib.pyplot as plt\n",
        "from sklearn.datasets import fetch_openml\n",
        "from sklearn.preprocessing import StandardScaler\n",
        "from sklearn.metrics import mean_squared_error"
      ],
      "metadata": {
        "id": "0l8SxZjjomCx"
      },
      "execution_count": null,
      "outputs": []
    },
    {
      "cell_type": "markdown",
      "source": [
        " 1️⃣ Load and Preprocess MNIST Dataset\n",
        "\n",
        "    📌 The MNIST dataset consists of 70,000 grayscale images of handwritten digits (0-9).\n",
        "    📌 Each image is of size 28x28 (784 pixels in total).\n",
        "    📌 We reshape it into vectors of shape (784,)."
      ],
      "metadata": {
        "id": "DrSYvA3gouw5"
      }
    },
    {
      "cell_type": "markdown",
      "source": [
        "Load MNIST dataset"
      ],
      "metadata": {
        "id": "jfsYLbY7pEbx"
      }
    },
    {
      "cell_type": "code",
      "source": [
        "mnist = fetch_openml('mnist_784', version=1)\n",
        "X = mnist.data  # Extract image data (70,000 samples, 784 features)\n",
        "X = X / 255.0  # Normalize pixel values to [0,1]"
      ],
      "metadata": {
        "id": "D6TalJG-o5Q6"
      },
      "execution_count": null,
      "outputs": []
    },
    {
      "cell_type": "markdown",
      "source": [
        "Mean centering: Subtract the mean from each feature (Column-wise mean)"
      ],
      "metadata": {
        "id": "A2q_ATObo-AC"
      }
    },
    {
      "cell_type": "code",
      "source": [
        "mean_image = np.mean(X, axis=0)\n",
        "X_centered = X - mean_image  # This ensures data has zero mean"
      ],
      "metadata": {
        "id": "rQ829nxRo-F6"
      },
      "execution_count": null,
      "outputs": []
    },
    {
      "cell_type": "markdown",
      "source": [
        "\n",
        " 2️⃣ Compute Covariance Matrix\n",
        "\n",
        "    📌 The covariance matrix captures the relationship between features (pixels).\n",
        "    📌 Formula: Cov(X) = (1/N) * X^T * X, where X is mean-centered\n",
        "\n"
      ],
      "metadata": {
        "id": "Mncwz5L_pNLa"
      }
    },
    {
      "cell_type": "code",
      "source": [
        "cov_matrix = np.cov(X_centered.T)  # Compute covariance matrix of shape (784, 784)"
      ],
      "metadata": {
        "id": "g2ev1B2IpNRq"
      },
      "execution_count": null,
      "outputs": []
    },
    {
      "cell_type": "markdown",
      "source": [
        "3️⃣ Calculate Eigen vector and eigen values\n",
        "\n",
        "    📌 Eigenvalues & Eigenvectors are fundamental in PCA.\n",
        "    📌 Eigenvectors (principal components) define new axes with maximum variance.\n",
        "    📌 Eigenvalues indicate the amount of variance captured by each component."
      ],
      "metadata": {
        "id": "dZS_nCukpfna"
      }
    },
    {
      "cell_type": "markdown",
      "source": [
        "    📌 Characterstics equation Formula:\n",
        "    \n",
        "    🔹 Cov(X) * v = λ * v\n",
        "        Where:\n",
        "        - v represents the eigenvectors (principal components)\n",
        "        - λ represents the eigenvalues (variance captured by each component)"
      ],
      "metadata": {
        "id": "l8aaOhxOuzFJ"
      }
    },
    {
      "cell_type": "code",
      "source": [
        "eigenvalues, eigenvectors = np.linalg.eigh(cov_matrix)  # Compute EVD"
      ],
      "metadata": {
        "id": "-CCCf8OCpfyS"
      },
      "execution_count": null,
      "outputs": []
    },
    {
      "cell_type": "markdown",
      "source": [
        "Sort eigenvalues & eigenvectors in descending order"
      ],
      "metadata": {
        "id": "AFBUoC9GpxCL"
      }
    },
    {
      "cell_type": "code",
      "source": [
        "sorted_indices = np.argsort(eigenvalues)[::-1]\n",
        "eigenvalues = eigenvalues[sorted_indices]\n",
        "eigenvectors = eigenvectors[:, sorted_indices]"
      ],
      "metadata": {
        "id": "D1UplrnrpxTJ"
      },
      "execution_count": null,
      "outputs": []
    },
    {
      "cell_type": "markdown",
      "source": [
        " 4️⃣ Select Principal Components\n",
        "\n",
        "    📌 We choose the top K eigenvectors (principal components).\n",
        "    📌 These represent the most important features in the data.\n",
        "    📌 We select enough components to retain 95% of variance."
      ],
      "metadata": {
        "id": "MRfurtXlp8V6"
      }
    },
    {
      "cell_type": "code",
      "source": [
        "cumulative_variance = np.cumsum(eigenvalues) / np.sum(eigenvalues)\n",
        "n_components_95 = np.argmax(cumulative_variance >= 0.95) + 1  # Find K where 95% variance is retained\n",
        "\n",
        "print(f\"Number of Principal Components to retain ≥95% variance: {n_components_95}\")\n",
        "\n",
        "top_eigenvectors = eigenvectors[:, :n_components_95]  # Select top K eigenvectors"
      ],
      "metadata": {
        "colab": {
          "base_uri": "https://localhost:8080/"
        },
        "id": "Z5L-SwjiqEp7",
        "outputId": "ed0ab287-ed78-4420-f268-76115c0995d9"
      },
      "execution_count": null,
      "outputs": [
        {
          "output_type": "stream",
          "name": "stdout",
          "text": [
            "Number of Principal Components to retain ≥95% variance: 154\n"
          ]
        }
      ]
    },
    {
      "cell_type": "markdown",
      "source": [
        " 5️⃣ Transform Data into Principal Component Space\n",
        "\n",
        "    📌 Project data onto the selected principal components\n",
        "    📌 Formula: Z = X_centered * P, where P is the matrix of top eigenvectors."
      ],
      "metadata": {
        "id": "T8U9hBj7qPoy"
      }
    },
    {
      "cell_type": "code",
      "source": [
        "X_projected = np.dot(X_centered, top_eigenvectors)"
      ],
      "metadata": {
        "id": "v18SIx7mqPyM"
      },
      "execution_count": null,
      "outputs": []
    },
    {
      "cell_type": "markdown",
      "source": [
        "6️⃣ Reconstruct Image Using Principal Components\n",
        "\n",
        "    📌 Formula: X_reconstructed = Mean + Z * P^T\n",
        "    📌 Adding back the mean is necessary as we initially centered the data."
      ],
      "metadata": {
        "id": "ESD9MQuZqjTq"
      }
    },
    {
      "cell_type": "code",
      "source": [
        "X_reconstructed = np.dot(X_projected, top_eigenvectors.T) + np.array(mean_image).reshape(1, -1)"
      ],
      "metadata": {
        "id": "v7cHfhHlqjtS"
      },
      "execution_count": null,
      "outputs": []
    },
    {
      "cell_type": "markdown",
      "source": [
        "\n",
        "7️⃣ Analyze Reconstruction Error\n",
        "\n",
        "    📌 Reconstruction error (Mean Squared Error (MSE)) measures data loss.\n",
        "    📌 As we add more components, error should decrease."
      ],
      "metadata": {
        "id": "5ZuVWdM0rLgT"
      }
    },
    {
      "cell_type": "code",
      "source": [
        "import numpy as np\n",
        "import pandas as pd\n",
        "from sklearn.metrics import mean_squared_error\n",
        "\n",
        "# Ensure `X` is a NumPy array\n",
        "X = X.to_numpy() if isinstance(X, pd.DataFrame) else X\n",
        "X_centered = X - np.mean(X, axis=0)\n",
        "\n",
        "# Ensure mean_image is a NumPy array with correct shape\n",
        "mean_image = np.mean(X, axis=0)\n",
        "mean_image = np.array(mean_image).reshape(1, -1)\n",
        "\n",
        "# Ensure eigenvectors is a NumPy array\n",
        "eigenvectors = np.array(eigenvectors)\n",
        "\n",
        "reconstruction_errors = []\n",
        "\n",
        "for k in range(1, n_components_95 + 1):\n",
        "    top_k_eigenvectors = eigenvectors[:, :k]  # Extract top-k eigenvectors\n",
        "    X_projected_k = np.dot(X_centered, top_k_eigenvectors)  # Project onto k components\n",
        "\n",
        "    # Ensure correct broadcasting by reshaping mean_image\n",
        "    X_reconstructed_k = np.dot(X_projected_k, top_k_eigenvectors.T) + mean_image\n",
        "\n",
        "    # Compute reconstruction error\n",
        "     # Formula: Error = (1/N) * Sum (Original - Reconstructed)^2\n",
        "    error = mean_squared_error(X, X_reconstructed_k)\n",
        "    reconstruction_errors.append(error)\n",
        "\n",
        "print(\"Reconstruction errors computed successfully.\")\n"
      ],
      "metadata": {
        "colab": {
          "base_uri": "https://localhost:8080/"
        },
        "id": "-vw0xx9krLvy",
        "outputId": "524d3595-b2d5-46ce-cd57-5f3f7f272741"
      },
      "execution_count": null,
      "outputs": [
        {
          "output_type": "stream",
          "name": "stdout",
          "text": [
            "Reconstruction errors computed successfully.\n"
          ]
        }
      ]
    },
    {
      "cell_type": "code",
      "source": [
        "components_to_test = [1, 5, 10, 20, 50, n_components_95]  # Test with different numbers of components\n",
        "\n",
        "reconstructed_images = {}\n",
        "\n",
        "for k in components_to_test:\n",
        "    top_k_eigenvectors = eigenvectors[:, :k]\n",
        "    X_projected_k = np.dot(X_centered, top_k_eigenvectors)\n",
        "    X_reconstructed_k = np.dot(X_projected_k, top_k_eigenvectors.T) + mean_image\n",
        "    reconstructed_images[k] = X_reconstructed_k"
      ],
      "metadata": {
        "id": "X4gtM_l021RU"
      },
      "execution_count": null,
      "outputs": []
    },
    {
      "cell_type": "markdown",
      "source": [
        "Plot reconstruction error vs. number of components"
      ],
      "metadata": {
        "id": "CCHtfIxqsYQT"
      }
    },
    {
      "cell_type": "code",
      "source": [
        "plt.figure(figsize=(8, 5))\n",
        "plt.plot(range(1, n_components_95 + 1), reconstruction_errors, marker='o', linestyle='-')\n",
        "plt.xlabel('Number of Principal Components')\n",
        "plt.ylabel('Reconstruction Error (MSE)')\n",
        "plt.title('Effect of Principal Components on Reconstruction Error')\n",
        "plt.grid()\n",
        "plt.show()"
      ],
      "metadata": {
        "colab": {
          "base_uri": "https://localhost:8080/",
          "height": 487
        },
        "id": "w9lg8VDtsYYi",
        "outputId": "bae553d7-c4c0-4f5b-9358-230eec16dfac"
      },
      "execution_count": null,
      "outputs": [
        {
          "output_type": "display_data",
          "data": {
            "text/plain": [
              "<Figure size 800x500 with 1 Axes>"
            ],
            "image/png": "[encoded data removed]"
          },
          "metadata": {}
        }
      ]
    },
    {
      "cell_type": "markdown",
      "source": [
        " 8️⃣ Visualize Original vs. Reconstructed Image\n",
        "\n",
        "    📌 We display an original MNIST image and its reconstruction using PCA."
      ],
      "metadata": {
        "id": "gPA1u2V_slnS"
      }
    },
    {
      "cell_type": "code",
      "source": [
        "def plot_images(original, reconstructed_images, components_list):\n",
        "    \"\"\"Function to plot original and reconstructed images.\"\"\"\n",
        "    fig, axes = plt.subplots(1, len(reconstructed_images) + 1, figsize=(12, 3))\n",
        "\n",
        "    # Plot original image\n",
        "    axes[0].imshow(original.reshape(28, 28), cmap='gray')\n",
        "    axes[0].set_title(\"Original Image\")\n",
        "    axes[0].axis(\"off\")\n",
        "\n",
        "    # Plot reconstructed images with different numbers of principal components\n",
        "    for i, k in enumerate(components_list):\n",
        "        axes[i + 1].imshow(reconstructed_images[k][0].reshape(28, 28), cmap='gray')\n",
        "        axes[i + 1].set_title(f\"Reconstructed\\n{k} PCs\")\n",
        "        axes[i + 1].axis(\"off\")\n",
        "\n",
        "    plt.show()\n",
        "\n",
        "# Select a sample image (first image in dataset)\n",
        "sample_image = X[0]\n",
        "\n",
        "# Plot original vs reconstructed images\n",
        "plot_images(sample_image, reconstructed_images, components_to_test)"
      ],
      "metadata": {
        "colab": {
          "base_uri": "https://localhost:8080/",
          "height": 193
        },
        "id": "KmTMcQE6slzC",
        "outputId": "a30469a4-3940-440e-9a4c-166778e25b61"
      },
      "execution_count": null,
      "outputs": [
        {
          "output_type": "display_data",
          "data": {
            "text/plain": [
              "<Figure size 1200x300 with 7 Axes>"
            ],
            "image/png": "[encoded data removed]"
          },
          "metadata": {}
        }
      ]
    }
  ]
}